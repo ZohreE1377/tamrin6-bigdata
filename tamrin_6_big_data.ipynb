{
  "nbformat": 4,
  "nbformat_minor": 0,
  "metadata": {
    "colab": {
      "provenance": []
    },
    "kernelspec": {
      "name": "python3",
      "display_name": "Python 3"
    },
    "language_info": {
      "name": "python"
    }
  },
  "cells": [
    {
      "cell_type": "code",
      "execution_count": 1,
      "metadata": {
        "colab": {
          "base_uri": "https://localhost:8080/"
        },
        "id": "ZIr4rfd_wWix",
        "outputId": "ef6ade39-5bb7-4dfa-b741-eb2a6b308429"
      },
      "outputs": [
        {
          "output_type": "stream",
          "name": "stdout",
          "text": [
            "Looking in indexes: https://pypi.org/simple, https://us-python.pkg.dev/colab-wheels/public/simple/\n",
            "Collecting pyspark\n",
            "  Downloading pyspark-3.4.0.tar.gz (310.8 MB)\n",
            "\u001b[2K     \u001b[90m━━━━━━━━━━━━━━━━━━━━━━━━━━━━━━━━━━━━━━━\u001b[0m \u001b[32m310.8/310.8 MB\u001b[0m \u001b[31m4.4 MB/s\u001b[0m eta \u001b[36m0:00:00\u001b[0m\n",
            "\u001b[?25h  Preparing metadata (setup.py) ... \u001b[?25l\u001b[?25hdone\n",
            "Requirement already satisfied: py4j==0.10.9.7 in /usr/local/lib/python3.9/dist-packages (from pyspark) (0.10.9.7)\n",
            "Building wheels for collected packages: pyspark\n",
            "  Building wheel for pyspark (setup.py) ... \u001b[?25l\u001b[?25hdone\n",
            "  Created wheel for pyspark: filename=pyspark-3.4.0-py2.py3-none-any.whl size=311317145 sha256=dda095419e0fdc07d59ae0ba5f150620e169e3785cc603f3def115d0a0f03bd3\n",
            "  Stored in directory: /root/.cache/pip/wheels/9f/34/a4/159aa12d0a510d5ff7c8f0220abbea42e5d81ecf588c4fd884\n",
            "Successfully built pyspark\n",
            "Installing collected packages: pyspark\n",
            "Successfully installed pyspark-3.4.0\n"
          ]
        }
      ],
      "source": [
        "!pip install pyspark\n"
      ]
    },
    {
      "cell_type": "code",
      "source": [
        "from pyspark.sql.functions import col,count,when,isnan\n",
        "from pyspark.ml.feature import PCA\n",
        "from pyspark.ml.feature import StringIndexer\n",
        "from pyspark.ml.feature import VectorAssembler\n",
        "from pyspark.sql import SparkSession\n",
        "from pyspark.ml import Pipeline\n",
        "from pyspark.ml.classification import LinearSVC\n",
        "from pyspark.ml.evaluation import MulticlassClassificationEvaluator\n",
        "from pyspark.ml.feature import MinMaxScaler\n"
      ],
      "metadata": {
        "id": "eh_WFrOs2GNq"
      },
      "execution_count": 19,
      "outputs": []
    },
    {
      "cell_type": "code",
      "source": [
        "from google.colab import drive\n",
        "drive.mount('/content/drive')"
      ],
      "metadata": {
        "colab": {
          "base_uri": "https://localhost:8080/"
        },
        "id": "w-nVNf7K2T4E",
        "outputId": "d6760a18-6df4-437e-bd1b-9463235f6a1b"
      },
      "execution_count": 9,
      "outputs": [
        {
          "output_type": "stream",
          "name": "stdout",
          "text": [
            "Drive already mounted at /content/drive; to attempt to forcibly remount, call drive.mount(\"/content/drive\", force_remount=True).\n"
          ]
        }
      ]
    },
    {
      "cell_type": "code",
      "source": [
        "pathh = \"/content/drive/MyDrive/ML_hw_dataset (1).csv\""
      ],
      "metadata": {
        "id": "IA_3QQCjZvVw"
      },
      "execution_count": 11,
      "outputs": []
    },
    {
      "cell_type": "code",
      "source": [
        "spark = SparkSession.builder.appName(\"DataPreprocessing\").getOrCreate()\n",
        "df = spark.read.csv(pathh, header=True, inferSchema=True)\n",
        "df.show()"
      ],
      "metadata": {
        "colab": {
          "base_uri": "https://localhost:8080/"
        },
        "id": "ezNMzlJ12gEY",
        "outputId": "ec79b32f-9305-4325-9fdd-b70dc4903497"
      },
      "execution_count": 12,
      "outputs": [
        {
          "output_type": "stream",
          "name": "stdout",
          "text": [
            "+---+-----------+--------+-----------------+-------+-------+----+---------+-----+-----------+--------+--------+-----+--------+-----------+------------+--------------+-------------+---------+-----------+---+\n",
            "|age|        job| marital|        education|default|housing|loan|  contact|month|day_of_week|duration|campaign|pdays|previous|   poutcome|emp_var_rate|cons_price_idx|cons_conf_idx|euribor3m|nr_employed|  y|\n",
            "+---+-----------+--------+-----------------+-------+-------+----+---------+-----+-----------+--------+--------+-----+--------+-----------+------------+--------------+-------------+---------+-----------+---+\n",
            "| 44|blue-collar| married|         basic.4y|unknown|    yes|  no| cellular|  aug|        thu|     210|       1|  999|       0|nonexistent|         1.4|        93.444|        -36.1|    4.963|     5228.1|  0|\n",
            "| 53| technician| married|          unknown|     no|     no|  no| cellular|  nov|        fri|     138|       1|  999|       0|nonexistent|        -0.1|          93.2|        -42.0|    4.021|     5195.8|  0|\n",
            "| 28| management|  single|university.degree|     no|    yes|  no| cellular|  jun|        thu|     339|       3|    6|       2|    success|        -1.7|        94.055|        -39.8|    0.729|     4991.6|  1|\n",
            "| 39|   services| married|      high.school|     no|     no|  no| cellular|  apr|        fri|     185|       2|  999|       0|nonexistent|        -1.8|        93.075|        -47.1|    1.405|     5099.1|  0|\n",
            "| 55|    retired| married|         basic.4y|     no|    yes|  no| cellular|  aug|        fri|     137|       1|    3|       1|    success|        -2.9|        92.201|        -31.4|    0.869|     5076.2|  1|\n",
            "| 30| management|divorced|         basic.4y|     no|    yes|  no| cellular|  jul|        tue|      68|       8|  999|       0|nonexistent|         1.4|        93.918|        -42.7|    4.961|     5228.1|  0|\n",
            "| 37|blue-collar| married|         basic.4y|     no|    yes|  no| cellular|  may|        thu|     204|       1|  999|       0|nonexistent|        -1.8|        92.893|        -46.2|    1.327|     5099.1|  0|\n",
            "| 39|blue-collar|divorced|         basic.9y|     no|    yes|  no| cellular|  may|        fri|     191|       1|  999|       0|nonexistent|        -1.8|        92.893|        -46.2|    1.313|     5099.1|  0|\n",
            "| 36|     admin.| married|university.degree|     no|     no|  no| cellular|  jun|        mon|     174|       1|    3|       1|    success|        -2.9|        92.963|        -40.8|    1.266|     5076.2|  1|\n",
            "| 27|blue-collar|  single|         basic.4y|     no|    yes|  no| cellular|  apr|        thu|     191|       2|  999|       1|    failure|        -1.8|        93.075|        -47.1|     1.41|     5099.1|  0|\n",
            "| 34|  housemaid|  single|university.degree|     no|     no|  no|telephone|  may|        fri|      62|       2|  999|       0|nonexistent|         1.1|        93.994|        -36.4|    4.864|     5191.0|  0|\n",
            "| 41| management| married|university.degree|     no|    yes|  no| cellular|  aug|        thu|     789|       1|  999|       0|nonexistent|         1.4|        93.444|        -36.1|    4.964|     5228.1|  0|\n",
            "| 55| management| married|university.degree|     no|     no|  no| cellular|  aug|        mon|     372|       3|  999|       0|nonexistent|         1.4|        93.444|        -36.1|    4.965|     5228.1|  1|\n",
            "| 33|   services|divorced|      high.school|     no|    yes|  no| cellular|  may|        tue|      75|       5|  999|       0|nonexistent|        -1.8|        92.893|        -46.2|    1.291|     5099.1|  0|\n",
            "| 26|     admin.| married|      high.school|     no|     no| yes|telephone|  jun|        mon|    1021|       1|  999|       0|nonexistent|         1.4|        94.465|        -41.8|     4.96|     5228.1|  0|\n",
            "| 52|   services| married|      high.school|unknown|    yes|  no| cellular|  jul|        thu|     117|       2|  999|       0|nonexistent|         1.4|        93.918|        -42.7|    4.962|     5228.1|  0|\n",
            "| 35|   services| married|      high.school|     no|     no|  no| cellular|  apr|        thu|    1034|       2|  999|       0|nonexistent|        -1.8|        93.075|        -47.1|    1.365|     5099.1|  1|\n",
            "| 27|     admin.|  single|university.degree|     no|     no|  no|telephone|  oct|        tue|     540|       1|  999|       0|nonexistent|        -0.1|        93.798|        -40.4|     4.86|     5195.8|  1|\n",
            "| 28|blue-collar| married|         basic.9y|unknown|     no|  no|telephone|  may|        thu|     140|       1|  999|       0|nonexistent|         1.1|        93.994|        -36.4|     4.86|     5191.0|  0|\n",
            "| 26| unemployed|  single|         basic.9y|     no|    yes| yes| cellular|  jul|        mon|     104|       4|  999|       0|nonexistent|         1.4|        93.918|        -42.7|     4.96|     5228.1|  0|\n",
            "+---+-----------+--------+-----------------+-------+-------+----+---------+-----+-----------+--------+--------+-----+--------+-----------+------------+--------------+-------------+---------+-----------+---+\n",
            "only showing top 20 rows\n",
            "\n"
          ]
        }
      ]
    },
    {
      "cell_type": "code",
      "source": [
        "df.describe().show()"
      ],
      "metadata": {
        "colab": {
          "base_uri": "https://localhost:8080/"
        },
        "id": "Rw0FVeRlJI-L",
        "outputId": "029abfe8-8e26-40a7-af05-ccd378e119bf"
      },
      "execution_count": 13,
      "outputs": [
        {
          "output_type": "stream",
          "name": "stdout",
          "text": [
            "+-------+------------------+-------+--------+---------+-------+-------+-----+---------+-----+-----------+------------------+------------------+------------------+-------------------+--------+-------------------+------------------+------------------+------------------+-----------------+-------------------+\n",
            "|summary|               age|    job| marital|education|default|housing| loan|  contact|month|day_of_week|          duration|          campaign|             pdays|           previous|poutcome|       emp_var_rate|    cons_price_idx|     cons_conf_idx|         euribor3m|      nr_employed|                  y|\n",
            "+-------+------------------+-------+--------+---------+-------+-------+-----+---------+-----+-----------+------------------+------------------+------------------+-------------------+--------+-------------------+------------------+------------------+------------------+-----------------+-------------------+\n",
            "|  count|             41188|  41188|   41188|    41188|  41188|  41188|41188|    41188|41188|      41188|             41188|             41188|             41188|              41188|   41188|              41188|             41188|             41188|             41188|            41188|              41188|\n",
            "|   mean| 40.02406040594348|   null|    null|     null|   null|   null| null|     null| null|       null| 258.2850101971448| 2.567592502670681| 962.4754540157328|0.17296299893172767|    null|0.08188550063125692| 93.57566436827341|-40.50260027191946| 3.621290812858276|5167.035910942891|0.11265417111780131|\n",
            "| stddev|10.421249980934073|   null|    null|     null|   null|   null| null|     null| null|       null|259.27924883646614|2.7700135429023414|186.91090734474136| 0.4949010798392897|    null| 1.5709597405170228|0.5788400489541246| 4.628197856174543|1.7344474048512681|72.25152766826126|0.31617342694296535|\n",
            "|    min|                17| admin.|divorced| basic.4y|     no|     no|   no| cellular|  apr|        fri|                 0|                 1|                 0|                  0| failure|               -3.4|            92.201|             -50.8|             0.634|           4963.6|                  0|\n",
            "|    max|                98|unknown| unknown|  unknown|    yes|    yes|  yes|telephone|  sep|        wed|              4918|                56|               999|                  7| success|                1.4|            94.767|             -26.9|             5.045|           5228.1|                  1|\n",
            "+-------+------------------+-------+--------+---------+-------+-------+-----+---------+-----+-----------+------------------+------------------+------------------+-------------------+--------+-------------------+------------------+------------------+------------------+-----------------+-------------------+\n",
            "\n"
          ]
        }
      ]
    },
    {
      "cell_type": "code",
      "source": [
        "string_cols = [c for c, t in df.dtypes if t == \"string\"]\n",
        "indexers = {c: StringIndexer(inputCol=c, outputCol=c+\"_index\") for c in string_cols}\n",
        "\n",
        "indexed_df = df\n",
        "for c, indexer in indexers.items():\n",
        "    indexed_df = indexer.fit(indexed_df).transform(indexed_df)\n",
        "print(\"Before:\")\n",
        "indexed_df.show(3)\n",
        "numeric_cols = [c for c, t in indexed_df.dtypes if t in [\"int\", \"double\", \"float\", \"long\"]]\n",
        "numeric_df = indexed_df.select(numeric_cols)\n",
        "print(\"**********************************************************************************\\nAfter:\")\n",
        "numeric_df.show(3)"
      ],
      "metadata": {
        "colab": {
          "base_uri": "https://localhost:8080/"
        },
        "id": "5fnSG0Zx2pU-",
        "outputId": "12164fd1-81be-4882-dc99-7d3f687404da"
      },
      "execution_count": 14,
      "outputs": [
        {
          "output_type": "stream",
          "name": "stdout",
          "text": [
            "Before:\n",
            "+---+-----------+-------+-----------------+-------+-------+----+--------+-----+-----------+--------+--------+-----+--------+-----------+------------+--------------+-------------+---------+-----------+---+---------+-------------+---------------+-------------+-------------+----------+-------------+-----------+-----------------+--------------+\n",
            "|age|        job|marital|        education|default|housing|loan| contact|month|day_of_week|duration|campaign|pdays|previous|   poutcome|emp_var_rate|cons_price_idx|cons_conf_idx|euribor3m|nr_employed|  y|job_index|marital_index|education_index|default_index|housing_index|loan_index|contact_index|month_index|day_of_week_index|poutcome_index|\n",
            "+---+-----------+-------+-----------------+-------+-------+----+--------+-----+-----------+--------+--------+-----+--------+-----------+------------+--------------+-------------+---------+-----------+---+---------+-------------+---------------+-------------+-------------+----------+-------------+-----------+-----------------+--------------+\n",
            "| 44|blue-collar|married|         basic.4y|unknown|    yes|  no|cellular|  aug|        thu|     210|       1|  999|       0|nonexistent|         1.4|        93.444|        -36.1|    4.963|     5228.1|  0|      1.0|          0.0|            4.0|          1.0|          0.0|       0.0|          0.0|        2.0|              0.0|           0.0|\n",
            "| 53| technician|married|          unknown|     no|     no|  no|cellular|  nov|        fri|     138|       1|  999|       0|nonexistent|        -0.1|          93.2|        -42.0|    4.021|     5195.8|  0|      2.0|          0.0|            6.0|          0.0|          1.0|       0.0|          0.0|        4.0|              4.0|           0.0|\n",
            "| 28| management| single|university.degree|     no|    yes|  no|cellular|  jun|        thu|     339|       3|    6|       2|    success|        -1.7|        94.055|        -39.8|    0.729|     4991.6|  1|      4.0|          1.0|            0.0|          0.0|          0.0|       0.0|          0.0|        3.0|              0.0|           2.0|\n",
            "+---+-----------+-------+-----------------+-------+-------+----+--------+-----+-----------+--------+--------+-----+--------+-----------+------------+--------------+-------------+---------+-----------+---+---------+-------------+---------------+-------------+-------------+----------+-------------+-----------+-----------------+--------------+\n",
            "only showing top 3 rows\n",
            "\n",
            "**********************************************************************************\n",
            "After:\n",
            "+---+--------+--------+-----+--------+------------+--------------+-------------+---------+-----------+---+---------+-------------+---------------+-------------+-------------+----------+-------------+-----------+-----------------+--------------+\n",
            "|age|duration|campaign|pdays|previous|emp_var_rate|cons_price_idx|cons_conf_idx|euribor3m|nr_employed|  y|job_index|marital_index|education_index|default_index|housing_index|loan_index|contact_index|month_index|day_of_week_index|poutcome_index|\n",
            "+---+--------+--------+-----+--------+------------+--------------+-------------+---------+-----------+---+---------+-------------+---------------+-------------+-------------+----------+-------------+-----------+-----------------+--------------+\n",
            "| 44|     210|       1|  999|       0|         1.4|        93.444|        -36.1|    4.963|     5228.1|  0|      1.0|          0.0|            4.0|          1.0|          0.0|       0.0|          0.0|        2.0|              0.0|           0.0|\n",
            "| 53|     138|       1|  999|       0|        -0.1|          93.2|        -42.0|    4.021|     5195.8|  0|      2.0|          0.0|            6.0|          0.0|          1.0|       0.0|          0.0|        4.0|              4.0|           0.0|\n",
            "| 28|     339|       3|    6|       2|        -1.7|        94.055|        -39.8|    0.729|     4991.6|  1|      4.0|          1.0|            0.0|          0.0|          0.0|       0.0|          0.0|        3.0|              0.0|           2.0|\n",
            "+---+--------+--------+-----+--------+------------+--------------+-------------+---------+-----------+---+---------+-------------+---------------+-------------+-------------+----------+-------------+-----------+-----------------+--------------+\n",
            "only showing top 3 rows\n",
            "\n"
          ]
        }
      ]
    },
    {
      "cell_type": "code",
      "source": [
        "null_counts = numeric_df.select([count(when(isnan(c) | col(c).isNull(), c)).alias(c) for c in numeric_df.columns])\n",
        "print(\"Nulls:\")\n",
        "null_counts.show()\n",
        "print(\"We have no null values in this dataset.\")"
      ],
      "metadata": {
        "colab": {
          "base_uri": "https://localhost:8080/"
        },
        "id": "F5-3sGxUdnd4",
        "outputId": "7885bfa6-67f4-419c-fbdb-188c3c4b8942"
      },
      "execution_count": 20,
      "outputs": [
        {
          "output_type": "stream",
          "name": "stdout",
          "text": [
            "Nulls:\n",
            "+---+--------+--------+-----+--------+------------+--------------+-------------+---------+-----------+---+---------+-------------+---------------+-------------+-------------+----------+-------------+-----------+-----------------+--------------+\n",
            "|age|duration|campaign|pdays|previous|emp_var_rate|cons_price_idx|cons_conf_idx|euribor3m|nr_employed|  y|job_index|marital_index|education_index|default_index|housing_index|loan_index|contact_index|month_index|day_of_week_index|poutcome_index|\n",
            "+---+--------+--------+-----+--------+------------+--------------+-------------+---------+-----------+---+---------+-------------+---------------+-------------+-------------+----------+-------------+-----------+-----------------+--------------+\n",
            "|  0|       0|       0|    0|       0|           0|             0|            0|        0|          0|  0|        0|            0|              0|            0|            0|         0|            0|          0|                0|             0|\n",
            "+---+--------+--------+-----+--------+------------+--------------+-------------+---------+-----------+---+---------+-------------+---------------+-------------+-------------+----------+-------------+-----------+-----------------+--------------+\n",
            "\n",
            "We have no null values in this dataset.\n"
          ]
        }
      ]
    },
    {
      "cell_type": "code",
      "source": [
        "numeric_df.show()"
      ],
      "metadata": {
        "colab": {
          "base_uri": "https://localhost:8080/"
        },
        "id": "tEoTNiTSaOx-",
        "outputId": "3c7ddda8-9fe2-4827-bcab-6c3ffa0fcad8"
      },
      "execution_count": 21,
      "outputs": [
        {
          "output_type": "stream",
          "name": "stdout",
          "text": [
            "+---+--------+--------+-----+--------+------------+--------------+-------------+---------+-----------+---+---------+-------------+---------------+-------------+-------------+----------+-------------+-----------+-----------------+--------------+\n",
            "|age|duration|campaign|pdays|previous|emp_var_rate|cons_price_idx|cons_conf_idx|euribor3m|nr_employed|  y|job_index|marital_index|education_index|default_index|housing_index|loan_index|contact_index|month_index|day_of_week_index|poutcome_index|\n",
            "+---+--------+--------+-----+--------+------------+--------------+-------------+---------+-----------+---+---------+-------------+---------------+-------------+-------------+----------+-------------+-----------+-----------------+--------------+\n",
            "| 44|     210|       1|  999|       0|         1.4|        93.444|        -36.1|    4.963|     5228.1|  0|      1.0|          0.0|            4.0|          1.0|          0.0|       0.0|          0.0|        2.0|              0.0|           0.0|\n",
            "| 53|     138|       1|  999|       0|        -0.1|          93.2|        -42.0|    4.021|     5195.8|  0|      2.0|          0.0|            6.0|          0.0|          1.0|       0.0|          0.0|        4.0|              4.0|           0.0|\n",
            "| 28|     339|       3|    6|       2|        -1.7|        94.055|        -39.8|    0.729|     4991.6|  1|      4.0|          1.0|            0.0|          0.0|          0.0|       0.0|          0.0|        3.0|              0.0|           2.0|\n",
            "| 39|     185|       2|  999|       0|        -1.8|        93.075|        -47.1|    1.405|     5099.1|  0|      3.0|          0.0|            1.0|          0.0|          1.0|       0.0|          0.0|        5.0|              4.0|           0.0|\n",
            "| 55|     137|       1|    3|       1|        -2.9|        92.201|        -31.4|    0.869|     5076.2|  1|      5.0|          0.0|            4.0|          0.0|          0.0|       0.0|          0.0|        2.0|              4.0|           2.0|\n",
            "| 30|      68|       8|  999|       0|         1.4|        93.918|        -42.7|    4.961|     5228.1|  0|      4.0|          2.0|            4.0|          0.0|          0.0|       0.0|          0.0|        1.0|              3.0|           0.0|\n",
            "| 37|     204|       1|  999|       0|        -1.8|        92.893|        -46.2|    1.327|     5099.1|  0|      1.0|          0.0|            4.0|          0.0|          0.0|       0.0|          0.0|        0.0|              0.0|           0.0|\n",
            "| 39|     191|       1|  999|       0|        -1.8|        92.893|        -46.2|    1.313|     5099.1|  0|      1.0|          2.0|            2.0|          0.0|          0.0|       0.0|          0.0|        0.0|              4.0|           0.0|\n",
            "| 36|     174|       1|    3|       1|        -2.9|        92.963|        -40.8|    1.266|     5076.2|  1|      0.0|          0.0|            0.0|          0.0|          1.0|       0.0|          0.0|        3.0|              1.0|           2.0|\n",
            "| 27|     191|       2|  999|       1|        -1.8|        93.075|        -47.1|     1.41|     5099.1|  0|      1.0|          1.0|            4.0|          0.0|          0.0|       0.0|          0.0|        5.0|              0.0|           1.0|\n",
            "| 34|      62|       2|  999|       0|         1.1|        93.994|        -36.4|    4.864|     5191.0|  0|      8.0|          1.0|            0.0|          0.0|          1.0|       0.0|          1.0|        0.0|              4.0|           0.0|\n",
            "| 41|     789|       1|  999|       0|         1.4|        93.444|        -36.1|    4.964|     5228.1|  0|      4.0|          0.0|            0.0|          0.0|          0.0|       0.0|          0.0|        2.0|              0.0|           0.0|\n",
            "| 55|     372|       3|  999|       0|         1.4|        93.444|        -36.1|    4.965|     5228.1|  1|      4.0|          0.0|            0.0|          0.0|          1.0|       0.0|          0.0|        2.0|              1.0|           0.0|\n",
            "| 33|      75|       5|  999|       0|        -1.8|        92.893|        -46.2|    1.291|     5099.1|  0|      3.0|          2.0|            1.0|          0.0|          0.0|       0.0|          0.0|        0.0|              3.0|           0.0|\n",
            "| 26|    1021|       1|  999|       0|         1.4|        94.465|        -41.8|     4.96|     5228.1|  0|      0.0|          0.0|            1.0|          0.0|          1.0|       1.0|          1.0|        3.0|              1.0|           0.0|\n",
            "| 52|     117|       2|  999|       0|         1.4|        93.918|        -42.7|    4.962|     5228.1|  0|      3.0|          0.0|            1.0|          1.0|          0.0|       0.0|          0.0|        1.0|              0.0|           0.0|\n",
            "| 35|    1034|       2|  999|       0|        -1.8|        93.075|        -47.1|    1.365|     5099.1|  1|      3.0|          0.0|            1.0|          0.0|          1.0|       0.0|          0.0|        5.0|              0.0|           0.0|\n",
            "| 27|     540|       1|  999|       0|        -0.1|        93.798|        -40.4|     4.86|     5195.8|  1|      0.0|          1.0|            0.0|          0.0|          1.0|       0.0|          1.0|        6.0|              3.0|           0.0|\n",
            "| 28|     140|       1|  999|       0|         1.1|        93.994|        -36.4|     4.86|     5191.0|  0|      1.0|          0.0|            2.0|          1.0|          1.0|       0.0|          1.0|        0.0|              0.0|           0.0|\n",
            "| 26|     104|       4|  999|       0|         1.4|        93.918|        -42.7|     4.96|     5228.1|  0|      9.0|          1.0|            2.0|          0.0|          0.0|       1.0|          0.0|        1.0|              1.0|           0.0|\n",
            "+---+--------+--------+-----+--------+------------+--------------+-------------+---------+-----------+---+---------+-------------+---------------+-------------+-------------+----------+-------------+-----------+-----------------+--------------+\n",
            "only showing top 20 rows\n",
            "\n"
          ]
        }
      ]
    },
    {
      "cell_type": "code",
      "source": [
        "numeric_df.show()"
      ],
      "metadata": {
        "colab": {
          "base_uri": "https://localhost:8080/"
        },
        "id": "g5pD61MsieRN",
        "outputId": "55ec2e0b-501a-40b3-c6a3-4bbf63c81bc4"
      },
      "execution_count": 22,
      "outputs": [
        {
          "output_type": "stream",
          "name": "stdout",
          "text": [
            "+---+--------+--------+-----+--------+------------+--------------+-------------+---------+-----------+---+---------+-------------+---------------+-------------+-------------+----------+-------------+-----------+-----------------+--------------+\n",
            "|age|duration|campaign|pdays|previous|emp_var_rate|cons_price_idx|cons_conf_idx|euribor3m|nr_employed|  y|job_index|marital_index|education_index|default_index|housing_index|loan_index|contact_index|month_index|day_of_week_index|poutcome_index|\n",
            "+---+--------+--------+-----+--------+------------+--------------+-------------+---------+-----------+---+---------+-------------+---------------+-------------+-------------+----------+-------------+-----------+-----------------+--------------+\n",
            "| 44|     210|       1|  999|       0|         1.4|        93.444|        -36.1|    4.963|     5228.1|  0|      1.0|          0.0|            4.0|          1.0|          0.0|       0.0|          0.0|        2.0|              0.0|           0.0|\n",
            "| 53|     138|       1|  999|       0|        -0.1|          93.2|        -42.0|    4.021|     5195.8|  0|      2.0|          0.0|            6.0|          0.0|          1.0|       0.0|          0.0|        4.0|              4.0|           0.0|\n",
            "| 28|     339|       3|    6|       2|        -1.7|        94.055|        -39.8|    0.729|     4991.6|  1|      4.0|          1.0|            0.0|          0.0|          0.0|       0.0|          0.0|        3.0|              0.0|           2.0|\n",
            "| 39|     185|       2|  999|       0|        -1.8|        93.075|        -47.1|    1.405|     5099.1|  0|      3.0|          0.0|            1.0|          0.0|          1.0|       0.0|          0.0|        5.0|              4.0|           0.0|\n",
            "| 55|     137|       1|    3|       1|        -2.9|        92.201|        -31.4|    0.869|     5076.2|  1|      5.0|          0.0|            4.0|          0.0|          0.0|       0.0|          0.0|        2.0|              4.0|           2.0|\n",
            "| 30|      68|       8|  999|       0|         1.4|        93.918|        -42.7|    4.961|     5228.1|  0|      4.0|          2.0|            4.0|          0.0|          0.0|       0.0|          0.0|        1.0|              3.0|           0.0|\n",
            "| 37|     204|       1|  999|       0|        -1.8|        92.893|        -46.2|    1.327|     5099.1|  0|      1.0|          0.0|            4.0|          0.0|          0.0|       0.0|          0.0|        0.0|              0.0|           0.0|\n",
            "| 39|     191|       1|  999|       0|        -1.8|        92.893|        -46.2|    1.313|     5099.1|  0|      1.0|          2.0|            2.0|          0.0|          0.0|       0.0|          0.0|        0.0|              4.0|           0.0|\n",
            "| 36|     174|       1|    3|       1|        -2.9|        92.963|        -40.8|    1.266|     5076.2|  1|      0.0|          0.0|            0.0|          0.0|          1.0|       0.0|          0.0|        3.0|              1.0|           2.0|\n",
            "| 27|     191|       2|  999|       1|        -1.8|        93.075|        -47.1|     1.41|     5099.1|  0|      1.0|          1.0|            4.0|          0.0|          0.0|       0.0|          0.0|        5.0|              0.0|           1.0|\n",
            "| 34|      62|       2|  999|       0|         1.1|        93.994|        -36.4|    4.864|     5191.0|  0|      8.0|          1.0|            0.0|          0.0|          1.0|       0.0|          1.0|        0.0|              4.0|           0.0|\n",
            "| 41|     789|       1|  999|       0|         1.4|        93.444|        -36.1|    4.964|     5228.1|  0|      4.0|          0.0|            0.0|          0.0|          0.0|       0.0|          0.0|        2.0|              0.0|           0.0|\n",
            "| 55|     372|       3|  999|       0|         1.4|        93.444|        -36.1|    4.965|     5228.1|  1|      4.0|          0.0|            0.0|          0.0|          1.0|       0.0|          0.0|        2.0|              1.0|           0.0|\n",
            "| 33|      75|       5|  999|       0|        -1.8|        92.893|        -46.2|    1.291|     5099.1|  0|      3.0|          2.0|            1.0|          0.0|          0.0|       0.0|          0.0|        0.0|              3.0|           0.0|\n",
            "| 26|    1021|       1|  999|       0|         1.4|        94.465|        -41.8|     4.96|     5228.1|  0|      0.0|          0.0|            1.0|          0.0|          1.0|       1.0|          1.0|        3.0|              1.0|           0.0|\n",
            "| 52|     117|       2|  999|       0|         1.4|        93.918|        -42.7|    4.962|     5228.1|  0|      3.0|          0.0|            1.0|          1.0|          0.0|       0.0|          0.0|        1.0|              0.0|           0.0|\n",
            "| 35|    1034|       2|  999|       0|        -1.8|        93.075|        -47.1|    1.365|     5099.1|  1|      3.0|          0.0|            1.0|          0.0|          1.0|       0.0|          0.0|        5.0|              0.0|           0.0|\n",
            "| 27|     540|       1|  999|       0|        -0.1|        93.798|        -40.4|     4.86|     5195.8|  1|      0.0|          1.0|            0.0|          0.0|          1.0|       0.0|          1.0|        6.0|              3.0|           0.0|\n",
            "| 28|     140|       1|  999|       0|         1.1|        93.994|        -36.4|     4.86|     5191.0|  0|      1.0|          0.0|            2.0|          1.0|          1.0|       0.0|          1.0|        0.0|              0.0|           0.0|\n",
            "| 26|     104|       4|  999|       0|         1.4|        93.918|        -42.7|     4.96|     5228.1|  0|      9.0|          1.0|            2.0|          0.0|          0.0|       1.0|          0.0|        1.0|              1.0|           0.0|\n",
            "+---+--------+--------+-----+--------+------------+--------------+-------------+---------+-----------+---+---------+-------------+---------------+-------------+-------------+----------+-------------+-----------+-----------------+--------------+\n",
            "only showing top 20 rows\n",
            "\n"
          ]
        }
      ]
    },
    {
      "cell_type": "code",
      "source": [
        "numeric_df.count()\n",
        "#numeric_cols"
      ],
      "metadata": {
        "colab": {
          "base_uri": "https://localhost:8080/"
        },
        "id": "f82bYkO9aK2i",
        "outputId": "5fbf08fe-4585-47c4-deb2-47312ec4b548"
      },
      "execution_count": 23,
      "outputs": [
        {
          "output_type": "execute_result",
          "data": {
            "text/plain": [
              "41188"
            ]
          },
          "metadata": {},
          "execution_count": 23
        }
      ]
    },
    {
      "cell_type": "code",
      "source": [
        "numeric_df.count()"
      ],
      "metadata": {
        "colab": {
          "base_uri": "https://localhost:8080/"
        },
        "id": "pOUVm0jcTbje",
        "outputId": "7705d28e-ff7a-497b-fb3d-e369a2602ab1"
      },
      "execution_count": null,
      "outputs": [
        {
          "output_type": "execute_result",
          "data": {
            "text/plain": [
              "41188"
            ]
          },
          "metadata": {},
          "execution_count": 183
        }
      ]
    },
    {
      "cell_type": "code",
      "source": [
        "numeric_df.printSchema()"
      ],
      "metadata": {
        "colab": {
          "base_uri": "https://localhost:8080/"
        },
        "id": "ECia3-u7YNaL",
        "outputId": "1f40fd78-4bde-4c25-e5cb-d5dbfd91d798"
      },
      "execution_count": 30,
      "outputs": [
        {
          "output_type": "stream",
          "name": "stdout",
          "text": [
            "root\n",
            " |-- age: integer (nullable = true)\n",
            " |-- duration: integer (nullable = true)\n",
            " |-- campaign: integer (nullable = true)\n",
            " |-- pdays: integer (nullable = true)\n",
            " |-- previous: integer (nullable = true)\n",
            " |-- emp_var_rate: double (nullable = true)\n",
            " |-- cons_price_idx: double (nullable = true)\n",
            " |-- cons_conf_idx: double (nullable = true)\n",
            " |-- euribor3m: double (nullable = true)\n",
            " |-- nr_employed: double (nullable = true)\n",
            " |-- y: integer (nullable = true)\n",
            " |-- job_index: double (nullable = false)\n",
            " |-- marital_index: double (nullable = false)\n",
            " |-- education_index: double (nullable = false)\n",
            " |-- default_index: double (nullable = false)\n",
            " |-- housing_index: double (nullable = false)\n",
            " |-- loan_index: double (nullable = false)\n",
            " |-- contact_index: double (nullable = false)\n",
            " |-- month_index: double (nullable = false)\n",
            " |-- day_of_week_index: double (nullable = false)\n",
            " |-- poutcome_index: double (nullable = false)\n",
            "\n"
          ]
        }
      ]
    },
    {
      "cell_type": "code",
      "source": [
        "featureforVec = []\n",
        "for c in numeric_df.columns:\n",
        "  if c !='y':\n",
        "    featureforVec.append(c)\n"
      ],
      "metadata": {
        "id": "Yi2Ksa6_YNfT"
      },
      "execution_count": 31,
      "outputs": []
    },
    {
      "cell_type": "code",
      "source": [
        "featureforVec"
      ],
      "metadata": {
        "colab": {
          "base_uri": "https://localhost:8080/"
        },
        "id": "EvBRHRaMhAVN",
        "outputId": "c37f143e-a468-4178-abc2-622a6e67ac7c"
      },
      "execution_count": 32,
      "outputs": [
        {
          "output_type": "execute_result",
          "data": {
            "text/plain": [
              "['age',\n",
              " 'duration',\n",
              " 'campaign',\n",
              " 'pdays',\n",
              " 'previous',\n",
              " 'emp_var_rate',\n",
              " 'cons_price_idx',\n",
              " 'cons_conf_idx',\n",
              " 'euribor3m',\n",
              " 'nr_employed',\n",
              " 'job_index',\n",
              " 'marital_index',\n",
              " 'education_index',\n",
              " 'default_index',\n",
              " 'housing_index',\n",
              " 'loan_index',\n",
              " 'contact_index',\n",
              " 'month_index',\n",
              " 'day_of_week_index',\n",
              " 'poutcome_index']"
            ]
          },
          "metadata": {},
          "execution_count": 32
        }
      ]
    },
    {
      "cell_type": "code",
      "source": [
        "numeric_df3 = numeric_df"
      ],
      "metadata": {
        "id": "YraEZ-YmhWzB"
      },
      "execution_count": 33,
      "outputs": []
    },
    {
      "cell_type": "code",
      "source": [
        "feature_assembeled2 = VectorAssembler(inputCols=featureforVec,outputCol='features')\n",
        "numeric_df2_vectored= feature_assembeled2.transform(numeric_df3)\n",
        "numeric_df2_vectored.show()"
      ],
      "metadata": {
        "colab": {
          "base_uri": "https://localhost:8080/"
        },
        "id": "Im3vKRFjhW7g",
        "outputId": "5ad3b4c1-7e59-4e0d-b04d-185e16373744"
      },
      "execution_count": 34,
      "outputs": [
        {
          "output_type": "stream",
          "name": "stdout",
          "text": [
            "+---+--------+--------+-----+--------+------------+--------------+-------------+---------+-----------+---+---------+-------------+---------------+-------------+-------------+----------+-------------+-----------+-----------------+--------------+--------------------+\n",
            "|age|duration|campaign|pdays|previous|emp_var_rate|cons_price_idx|cons_conf_idx|euribor3m|nr_employed|  y|job_index|marital_index|education_index|default_index|housing_index|loan_index|contact_index|month_index|day_of_week_index|poutcome_index|            features|\n",
            "+---+--------+--------+-----+--------+------------+--------------+-------------+---------+-----------+---+---------+-------------+---------------+-------------+-------------+----------+-------------+-----------+-----------------+--------------+--------------------+\n",
            "| 44|     210|       1|  999|       0|         1.4|        93.444|        -36.1|    4.963|     5228.1|  0|      1.0|          0.0|            4.0|          1.0|          0.0|       0.0|          0.0|        2.0|              0.0|           0.0|[44.0,210.0,1.0,9...|\n",
            "| 53|     138|       1|  999|       0|        -0.1|          93.2|        -42.0|    4.021|     5195.8|  0|      2.0|          0.0|            6.0|          0.0|          1.0|       0.0|          0.0|        4.0|              4.0|           0.0|[53.0,138.0,1.0,9...|\n",
            "| 28|     339|       3|    6|       2|        -1.7|        94.055|        -39.8|    0.729|     4991.6|  1|      4.0|          1.0|            0.0|          0.0|          0.0|       0.0|          0.0|        3.0|              0.0|           2.0|[28.0,339.0,3.0,6...|\n",
            "| 39|     185|       2|  999|       0|        -1.8|        93.075|        -47.1|    1.405|     5099.1|  0|      3.0|          0.0|            1.0|          0.0|          1.0|       0.0|          0.0|        5.0|              4.0|           0.0|[39.0,185.0,2.0,9...|\n",
            "| 55|     137|       1|    3|       1|        -2.9|        92.201|        -31.4|    0.869|     5076.2|  1|      5.0|          0.0|            4.0|          0.0|          0.0|       0.0|          0.0|        2.0|              4.0|           2.0|[55.0,137.0,1.0,3...|\n",
            "| 30|      68|       8|  999|       0|         1.4|        93.918|        -42.7|    4.961|     5228.1|  0|      4.0|          2.0|            4.0|          0.0|          0.0|       0.0|          0.0|        1.0|              3.0|           0.0|[30.0,68.0,8.0,99...|\n",
            "| 37|     204|       1|  999|       0|        -1.8|        92.893|        -46.2|    1.327|     5099.1|  0|      1.0|          0.0|            4.0|          0.0|          0.0|       0.0|          0.0|        0.0|              0.0|           0.0|(20,[0,1,2,3,5,6,...|\n",
            "| 39|     191|       1|  999|       0|        -1.8|        92.893|        -46.2|    1.313|     5099.1|  0|      1.0|          2.0|            2.0|          0.0|          0.0|       0.0|          0.0|        0.0|              4.0|           0.0|[39.0,191.0,1.0,9...|\n",
            "| 36|     174|       1|    3|       1|        -2.9|        92.963|        -40.8|    1.266|     5076.2|  1|      0.0|          0.0|            0.0|          0.0|          1.0|       0.0|          0.0|        3.0|              1.0|           2.0|[36.0,174.0,1.0,3...|\n",
            "| 27|     191|       2|  999|       1|        -1.8|        93.075|        -47.1|     1.41|     5099.1|  0|      1.0|          1.0|            4.0|          0.0|          0.0|       0.0|          0.0|        5.0|              0.0|           1.0|[27.0,191.0,2.0,9...|\n",
            "| 34|      62|       2|  999|       0|         1.1|        93.994|        -36.4|    4.864|     5191.0|  0|      8.0|          1.0|            0.0|          0.0|          1.0|       0.0|          1.0|        0.0|              4.0|           0.0|[34.0,62.0,2.0,99...|\n",
            "| 41|     789|       1|  999|       0|         1.4|        93.444|        -36.1|    4.964|     5228.1|  0|      4.0|          0.0|            0.0|          0.0|          0.0|       0.0|          0.0|        2.0|              0.0|           0.0|(20,[0,1,2,3,5,6,...|\n",
            "| 55|     372|       3|  999|       0|         1.4|        93.444|        -36.1|    4.965|     5228.1|  1|      4.0|          0.0|            0.0|          0.0|          1.0|       0.0|          0.0|        2.0|              1.0|           0.0|[55.0,372.0,3.0,9...|\n",
            "| 33|      75|       5|  999|       0|        -1.8|        92.893|        -46.2|    1.291|     5099.1|  0|      3.0|          2.0|            1.0|          0.0|          0.0|       0.0|          0.0|        0.0|              3.0|           0.0|[33.0,75.0,5.0,99...|\n",
            "| 26|    1021|       1|  999|       0|         1.4|        94.465|        -41.8|     4.96|     5228.1|  0|      0.0|          0.0|            1.0|          0.0|          1.0|       1.0|          1.0|        3.0|              1.0|           0.0|[26.0,1021.0,1.0,...|\n",
            "| 52|     117|       2|  999|       0|         1.4|        93.918|        -42.7|    4.962|     5228.1|  0|      3.0|          0.0|            1.0|          1.0|          0.0|       0.0|          0.0|        1.0|              0.0|           0.0|[52.0,117.0,2.0,9...|\n",
            "| 35|    1034|       2|  999|       0|        -1.8|        93.075|        -47.1|    1.365|     5099.1|  1|      3.0|          0.0|            1.0|          0.0|          1.0|       0.0|          0.0|        5.0|              0.0|           0.0|[35.0,1034.0,2.0,...|\n",
            "| 27|     540|       1|  999|       0|        -0.1|        93.798|        -40.4|     4.86|     5195.8|  1|      0.0|          1.0|            0.0|          0.0|          1.0|       0.0|          1.0|        6.0|              3.0|           0.0|[27.0,540.0,1.0,9...|\n",
            "| 28|     140|       1|  999|       0|         1.1|        93.994|        -36.4|     4.86|     5191.0|  0|      1.0|          0.0|            2.0|          1.0|          1.0|       0.0|          1.0|        0.0|              0.0|           0.0|[28.0,140.0,1.0,9...|\n",
            "| 26|     104|       4|  999|       0|         1.4|        93.918|        -42.7|     4.96|     5228.1|  0|      9.0|          1.0|            2.0|          0.0|          0.0|       1.0|          0.0|        1.0|              1.0|           0.0|[26.0,104.0,4.0,9...|\n",
            "+---+--------+--------+-----+--------+------------+--------------+-------------+---------+-----------+---+---------+-------------+---------------+-------------+-------------+----------+-------------+-----------+-----------------+--------------+--------------------+\n",
            "only showing top 20 rows\n",
            "\n"
          ]
        }
      ]
    },
    {
      "cell_type": "code",
      "source": [
        "numeric_df2 = numeric_df2_vectored.select('features','y')"
      ],
      "metadata": {
        "id": "U_gIHCaRhW-x"
      },
      "execution_count": 35,
      "outputs": []
    },
    {
      "cell_type": "code",
      "source": [
        "numeric_df2.show()"
      ],
      "metadata": {
        "colab": {
          "base_uri": "https://localhost:8080/"
        },
        "id": "R_YXsD5Rh7Kj",
        "outputId": "70eb5627-3a12-4439-d084-f0f32b5d3b54"
      },
      "execution_count": 36,
      "outputs": [
        {
          "output_type": "stream",
          "name": "stdout",
          "text": [
            "+--------------------+---+\n",
            "|            features|  y|\n",
            "+--------------------+---+\n",
            "|[44.0,210.0,1.0,9...|  0|\n",
            "|[53.0,138.0,1.0,9...|  0|\n",
            "|[28.0,339.0,3.0,6...|  1|\n",
            "|[39.0,185.0,2.0,9...|  0|\n",
            "|[55.0,137.0,1.0,3...|  1|\n",
            "|[30.0,68.0,8.0,99...|  0|\n",
            "|(20,[0,1,2,3,5,6,...|  0|\n",
            "|[39.0,191.0,1.0,9...|  0|\n",
            "|[36.0,174.0,1.0,3...|  1|\n",
            "|[27.0,191.0,2.0,9...|  0|\n",
            "|[34.0,62.0,2.0,99...|  0|\n",
            "|(20,[0,1,2,3,5,6,...|  0|\n",
            "|[55.0,372.0,3.0,9...|  1|\n",
            "|[33.0,75.0,5.0,99...|  0|\n",
            "|[26.0,1021.0,1.0,...|  0|\n",
            "|[52.0,117.0,2.0,9...|  0|\n",
            "|[35.0,1034.0,2.0,...|  1|\n",
            "|[27.0,540.0,1.0,9...|  1|\n",
            "|[28.0,140.0,1.0,9...|  0|\n",
            "|[26.0,104.0,4.0,9...|  0|\n",
            "+--------------------+---+\n",
            "only showing top 20 rows\n",
            "\n"
          ]
        }
      ]
    },
    {
      "cell_type": "code",
      "source": [
        "scaler=MinMaxScaler(inputCol=\"features\",outputCol=\"scaled_features\")"
      ],
      "metadata": {
        "id": "-NMQVYFraaz0"
      },
      "execution_count": 37,
      "outputs": []
    },
    {
      "cell_type": "code",
      "source": [
        "\n",
        "scalerModel = scaler.fit(numeric_df2)\n"
      ],
      "metadata": {
        "id": "ASb8IpvWohih"
      },
      "execution_count": 38,
      "outputs": []
    },
    {
      "cell_type": "code",
      "source": [
        "scaledData = scalerModel.transform(numeric_df2)\n"
      ],
      "metadata": {
        "id": "BedDl0IFo8La"
      },
      "execution_count": 39,
      "outputs": []
    },
    {
      "cell_type": "code",
      "source": [
        "scaledData2 = scaledData.select('scaled_features','y')\n",
        "scaledData2.show()"
      ],
      "metadata": {
        "colab": {
          "base_uri": "https://localhost:8080/"
        },
        "id": "IaYVWlE2q1E3",
        "outputId": "c6786ea4-4436-435f-905e-17df965d3f03"
      },
      "execution_count": 40,
      "outputs": [
        {
          "output_type": "stream",
          "name": "stdout",
          "text": [
            "+--------------------+---+\n",
            "|     scaled_features|  y|\n",
            "+--------------------+---+\n",
            "|(20,[0,1,3,5,6,7,...|  0|\n",
            "|[0.44444444444444...|  0|\n",
            "|[0.13580246913580...|  1|\n",
            "|[0.27160493827160...|  0|\n",
            "|[0.46913580246913...|  1|\n",
            "|[0.16049382716049...|  0|\n",
            "|(20,[0,1,3,5,6,7,...|  0|\n",
            "|(20,[0,1,3,5,6,7,...|  0|\n",
            "|[0.23456790123456...|  1|\n",
            "|[0.12345679012345...|  0|\n",
            "|[0.20987654320987...|  0|\n",
            "|(20,[0,1,3,5,6,7,...|  0|\n",
            "|[0.46913580246913...|  1|\n",
            "|[0.19753086419753...|  0|\n",
            "|[0.11111111111111...|  0|\n",
            "|[0.43209876543209...|  0|\n",
            "|[0.22222222222222...|  1|\n",
            "|[0.12345679012345...|  1|\n",
            "|[0.13580246913580...|  0|\n",
            "|[0.11111111111111...|  0|\n",
            "+--------------------+---+\n",
            "only showing top 20 rows\n",
            "\n"
          ]
        }
      ]
    },
    {
      "cell_type": "code",
      "source": [
        "train_data, test_data =scaledData2.randomSplit([0.7, 0.3])"
      ],
      "metadata": {
        "id": "DcYjFRZm6wnW"
      },
      "execution_count": 41,
      "outputs": []
    },
    {
      "cell_type": "code",
      "source": [
        "from pyspark.ml.classification import LinearSVC\n"
      ],
      "metadata": {
        "id": "PVmjbuzTth9N"
      },
      "execution_count": 42,
      "outputs": []
    },
    {
      "cell_type": "code",
      "source": [
        "lsvc = LinearSVC(featuresCol='scaled_features',labelCol='y',maxIter=5).fit(train_data)\n"
      ],
      "metadata": {
        "id": "M5PgwIYltwmv"
      },
      "execution_count": 43,
      "outputs": []
    },
    {
      "cell_type": "code",
      "source": [
        "lsvc"
      ],
      "metadata": {
        "colab": {
          "base_uri": "https://localhost:8080/"
        },
        "id": "P1c9FglYuAdq",
        "outputId": "c9f2502a-0847-48be-ff9b-8490c3ec35a0"
      },
      "execution_count": 44,
      "outputs": [
        {
          "output_type": "execute_result",
          "data": {
            "text/plain": [
              "LinearSVCModel: uid=LinearSVC_84c9396c1b90, numClasses=2, numFeatures=20"
            ]
          },
          "metadata": {},
          "execution_count": 44
        }
      ]
    },
    {
      "cell_type": "code",
      "source": [
        "train_result = lsvc.evaluate(train_data).predictions"
      ],
      "metadata": {
        "id": "2YXK9f7vuAtb"
      },
      "execution_count": 45,
      "outputs": []
    },
    {
      "cell_type": "code",
      "source": [
        "train_result.show()"
      ],
      "metadata": {
        "colab": {
          "base_uri": "https://localhost:8080/"
        },
        "id": "JdTZhdbauAwV",
        "outputId": "f08b6b73-0af3-422e-c7b1-e238149a3385"
      },
      "execution_count": 46,
      "outputs": [
        {
          "output_type": "stream",
          "name": "stdout",
          "text": [
            "+--------------------+---+--------------------+----------+\n",
            "|     scaled_features|  y|       rawPrediction|prediction|\n",
            "+--------------------+---+--------------------+----------+\n",
            "|(20,[0,1,2,3,4,5,...|  0|[1.46313634191875...|       0.0|\n",
            "|(20,[0,1,2,3,4,5,...|  0|[1.31728935869051...|       0.0|\n",
            "|(20,[0,1,2,3,4,5,...|  0|[1.33316555419792...|       0.0|\n",
            "|(20,[0,1,2,3,4,5,...|  0|[1.35208185321906...|       0.0|\n",
            "|(20,[0,1,2,3,4,5,...|  0|[1.34599891519562...|       0.0|\n",
            "|(20,[0,1,2,3,4,5,...|  0|[0.79988823853899...|       0.0|\n",
            "|(20,[0,1,2,3,4,5,...|  0|[0.21911355713001...|       0.0|\n",
            "|(20,[0,1,2,3,4,5,...|  0|[1.39743815637322...|       0.0|\n",
            "|(20,[0,1,2,3,4,5,...|  0|[1.51563695994411...|       0.0|\n",
            "|(20,[0,1,2,3,4,5,...|  1|[-0.0336256652107...|       1.0|\n",
            "|(20,[0,1,2,3,4,5,...|  0|[-0.0911890401319...|       1.0|\n",
            "|(20,[0,1,2,3,4,5,...|  0|[1.33423790135531...|       0.0|\n",
            "|(20,[0,1,2,3,4,5,...|  0|[0.24898938275548...|       0.0|\n",
            "|(20,[0,1,2,3,4,5,...|  1|[0.70065791499685...|       0.0|\n",
            "|(20,[0,1,2,3,4,5,...|  0|[1.55588418693099...|       0.0|\n",
            "|(20,[0,1,2,3,4,5,...|  0|[1.54898828807311...|       0.0|\n",
            "|(20,[0,1,2,3,4,5,...|  1|[-0.9652449583097...|       1.0|\n",
            "|(20,[0,1,2,3,4,5,...|  0|[1.24287366855458...|       0.0|\n",
            "|(20,[0,1,2,3,4,5,...|  0|[0.38648739476183...|       0.0|\n",
            "|(20,[0,1,2,3,4,5,...|  0|[1.55633192109485...|       0.0|\n",
            "+--------------------+---+--------------------+----------+\n",
            "only showing top 20 rows\n",
            "\n"
          ]
        }
      ]
    },
    {
      "cell_type": "code",
      "source": [
        "results = lsvc.evaluate(test_data).predictions\n",
        "results.show()"
      ],
      "metadata": {
        "colab": {
          "base_uri": "https://localhost:8080/"
        },
        "id": "rxlSpFpCuH2j",
        "outputId": "7a90e65f-e2bc-49a7-8752-5b2015fda251"
      },
      "execution_count": 47,
      "outputs": [
        {
          "output_type": "stream",
          "name": "stdout",
          "text": [
            "+--------------------+---+--------------------+----------+\n",
            "|     scaled_features|  y|       rawPrediction|prediction|\n",
            "+--------------------+---+--------------------+----------+\n",
            "|(20,[0,1,2,3,4,5,...|  0|[1.21636384564524...|       0.0|\n",
            "|(20,[0,1,2,3,4,5,...|  0|[1.73448464132129...|       0.0|\n",
            "|(20,[0,1,2,3,4,5,...|  0|[1.62242738223775...|       0.0|\n",
            "|(20,[0,1,2,3,4,5,...|  0|[1.45759826466453...|       0.0|\n",
            "|(20,[0,1,2,3,4,5,...|  0|[-0.1545137593413...|       1.0|\n",
            "|(20,[0,1,2,3,4,5,...|  0|[1.38826493392795...|       0.0|\n",
            "|(20,[0,1,2,3,4,5,...|  0|[0.48954625406724...|       0.0|\n",
            "|(20,[0,1,2,3,4,5,...|  0|[0.33139551299294...|       0.0|\n",
            "|(20,[0,1,2,3,4,5,...|  0|[1.12773913079154...|       0.0|\n",
            "|(20,[0,1,2,3,4,5,...|  0|[1.61658933597707...|       0.0|\n",
            "|(20,[0,1,2,3,4,5,...|  0|[1.15039835924869...|       0.0|\n",
            "|(20,[0,1,2,3,4,5,...|  0|[1.41040050546555...|       0.0|\n",
            "|(20,[0,1,2,3,4,5,...|  1|[-0.4428570692944...|       1.0|\n",
            "|(20,[0,1,2,3,4,5,...|  1|[0.16147662711969...|       0.0|\n",
            "|(20,[0,1,2,3,4,5,...|  0|[1.68062250572552...|       0.0|\n",
            "|(20,[0,1,2,3,4,5,...|  0|[1.28412634899357...|       0.0|\n",
            "|(20,[0,1,2,3,4,5,...|  1|[-0.7024238693177...|       1.0|\n",
            "|(20,[0,1,2,3,4,5,...|  0|[0.97600696843168...|       0.0|\n",
            "|(20,[0,1,2,3,4,5,...|  1|[-0.8338078343036...|       1.0|\n",
            "|(20,[0,1,2,3,4,5,...|  0|[-0.3676300227981...|       1.0|\n",
            "+--------------------+---+--------------------+----------+\n",
            "only showing top 20 rows\n",
            "\n"
          ]
        }
      ]
    },
    {
      "cell_type": "code",
      "source": [
        "from pyspark.ml.evaluation import MulticlassClassificationEvaluator\n"
      ],
      "metadata": {
        "id": "l4hW5M496hZC"
      },
      "execution_count": 48,
      "outputs": []
    },
    {
      "cell_type": "code",
      "source": [
        "\n",
        "evaluator = MulticlassClassificationEvaluator(predictionCol=\"prediction\", labelCol=\"y\", metricName=\"accuracy\")\n",
        "accuracy = evaluator.evaluate(results)\n",
        "print(\"Accuracy = %g\" % accuracy)"
      ],
      "metadata": {
        "colab": {
          "base_uri": "https://localhost:8080/"
        },
        "id": "TVgX5qjiuOVX",
        "outputId": "123c97cb-5b79-4d11-9d6d-2c945816b79c"
      },
      "execution_count": 49,
      "outputs": [
        {
          "output_type": "stream",
          "name": "stdout",
          "text": [
            "Accuracy = 0.90326\n"
          ]
        }
      ]
    },
    {
      "cell_type": "code",
      "source": [
        "evaluator = MulticlassClassificationEvaluator(predictionCol=\"prediction\", labelCol=\"y\", metricName=\"weightedPrecision\")\n",
        "precision = evaluator.evaluate(results)\n",
        "print(\"Precision = %g\" % precision)\n",
        "\n",
        "evaluator = MulticlassClassificationEvaluator(predictionCol=\"prediction\", labelCol=\"y\", metricName=\"weightedRecall\")\n",
        "recall = evaluator.evaluate(results)\n",
        "print(\"Recall = %g\" % recall)"
      ],
      "metadata": {
        "colab": {
          "base_uri": "https://localhost:8080/"
        },
        "id": "kJLWTdzuuz1M",
        "outputId": "ee8d17c4-528b-4126-dca8-0a95b0a65a21"
      },
      "execution_count": 50,
      "outputs": [
        {
          "output_type": "stream",
          "name": "stdout",
          "text": [
            "Precision = 0.887843\n",
            "Recall = 0.90326\n"
          ]
        }
      ]
    }
  ]
}